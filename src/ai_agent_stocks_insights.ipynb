{
 "cells": [
  {
   "cell_type": "markdown",
   "metadata": {},
   "source": [
    "## AI Agent Stocks Insights and News\n",
    "\n",
    "### Overview\n",
    "Carlos is a small investor who constantly needs to stay informed about the latest market trends and financial news. Due to his demanding schedule, Carlos finds it challenging and inefficient to manually sift through numerous articles, reports, and data sources to get accurate and timely insights.\n",
    "\n",
    "To address this, Carlos uses the AI Agent Stocks Insights, an intelligent solution powered by generative AI, enabling him to quickly and efficiently access real-time information tailored to his financial research needs.\n",
    "\n",
    "### Problem Statement\n",
    "As a busy professional balancing data science projects and investment decisions, Carlos requires quick, reliable, and concise information about company financial standings, stock prices, and relevant market news. His current methods are too time-consuming and inefficient, leading to delays and potential missed opportunities.\n",
    "\n",
    "### Solution Approach\n",
    "Here's how Carlos leverages AI Agent Stocks Insights:\n",
    "\n",
    "Financial Analysis:\n",
    "When Carlos needs information about NVIDIA's financial performance, he simply asks, \"Give me a company overview of Nvidia Corporation.\" The AI Agent retrieves and synthesizes comprehensive company data, presenting it clearly and succinctly.\n",
    "To get an instant update on NVIDIA's stock price, Carlos prompts, \"Give me the current stock price for NVDA,\" and immediately receives accurate, up-to-date pricing information.\n",
    "\n",
    "News Insights:\n",
    "To stay ahead of emerging trends, Carlos queries, \"What is the latest news on AI?\" The AI Agent promptly fetches the most recent and relevant articles, providing Carlos with concise summaries and essential insights.\n",
    "This notebook demonstrates how Carlos efficiently interacts with the AI Agent using generative AI capabilities, seamlessly connecting with financial and news APIs, significantly enhancing his productivity and investment decision-making process."
   ]
  },
  {
   "cell_type": "markdown",
   "metadata": {},
   "source": [
    "### 1. Setup\n",
    "Start by installing and importing the Python SDK."
   ]
  },
  {
   "cell_type": "code",
   "execution_count": 8,
   "metadata": {},
   "outputs": [],
   "source": [
    "from google import genai\n",
    "from google.genai import types\n",
    "import requests\n",
    "import os\n",
    "from dotenv import load_dotenv\n",
    "import grpc\n",
    "\n",
    "# Try to import grpc_status, set to None if not available\n",
    "try:\n",
    "    import grpc_status\n",
    "except ImportError:\n",
    "    grpc_status = None\n",
    "\n",
    "from IPython.display import Markdown\n"
   ]
  },
  {
   "cell_type": "markdown",
   "metadata": {},
   "source": [
    "#### Automated retry\n",
    "Define a retry policy. The model might make multiple consecutive calls automatically for a complex query, this ensures the client retries if it hits quota limits."
   ]
  },
  {
   "cell_type": "code",
   "execution_count": 9,
   "metadata": {},
   "outputs": [],
   "source": [
    "from google.api_core import retry\n",
    "\n",
    "is_retriable = lambda e: (isinstance(e, genai.errors.APIError) and e.code in {429, 503})\n",
    "\n",
    "if not hasattr(genai.models.Models.generate_content, '__wrapped__'):\n",
    "  genai.models.Models.generate_content = retry.Retry(\n",
    "      predicate=is_retriable)(genai.models.Models.generate_content)"
   ]
  },
  {
   "cell_type": "markdown",
   "metadata": {},
   "source": [
    "### 2. Define your helper functions\n",
    "Implement each function in Python to fetch data from external services"
   ]
  },
  {
   "cell_type": "code",
   "execution_count": 10,
   "metadata": {},
   "outputs": [],
   "source": [
    "import requests\n",
    "\n",
    "BASE_ALPHA = \"https://www.alphavantage.co/query\"\n",
    "\n",
    "def get_stock_price(symbol: str) -> dict:\n",
    "    \"\"\"Fetch the current stock price of a given company in dollar\"\"\"\n",
    "    params = {\n",
    "        \"function\": \"GLOBAL_QUOTE\",\n",
    "        \"symbol\": symbol,\n",
    "        \"apikey\": ALPHA_KEY\n",
    "    }\n",
    "    data = requests.get(BASE_ALPHA, params=params, timeout=10).json()\n",
    "    quote = data.get(\"Global Quote\", {})\n",
    "\n",
    "    return {\n",
    "        \"symbol\": quote.get(\"01. symbol\"),\n",
    "        \"price\": float(quote.get(\"05. price\", 0)),\n",
    "        \"date\": quote.get(\"07. latest trading day\")\n",
    "    }\n",
    "\n",
    "def get_company_overview(symbol: str) -> dict:\n",
    "    \"\"\"Get company details and other financial data\"\"\"\n",
    "    params = {\"function\": \"OVERVIEW\", \"symbol\": symbol, \"apikey\": ALPHA_KEY}\n",
    "    ov = requests.get(BASE_ALPHA, params=params, timeout=10).json()\n",
    "    fields = [\"Name\",\"Description\",\"Sector\",\"MarketCapitalization\",\n",
    "              \"PERatio\",\"DividendYield\",\"52WeekHigh\",\"52WeekLow\"]\n",
    "\n",
    "    return {k: ov.get(k, \"NA\") for k in fields}\n",
    "\n",
    "\n",
    "def get_news(topic: str, n:int = 5) -> dict:\n",
    "    \"\"\"Get the latest news headlines for a given company.\"\"\"\n",
    "    url = (\"https://newsapi.org/v2/everything?\"\n",
    "           f\"q={topic}&language=en&sortBy=publishedAt&pageSize={n}&apiKey={NEWS_KEY}\")\n",
    "    articles = requests.get(url, timeout=10).json().get(\"articles\", [])\n",
    "    news = [{\"title\": a[\"title\"],\n",
    "             \"url\": a[\"url\"],\n",
    "             \"published\": a[\"publishedAt\"][:10]} for a in articles]\n",
    "\n",
    "    return {\"topic\": topic, \"count\": len(news), \"articles\": news}"
   ]
  },
  {
   "cell_type": "markdown",
   "metadata": {},
   "source": [
    "### 3. Define Function Schemas and parameter descriptions\n",
    "We define three primary function schemas: get_company_overview, get_stock_price, and get_news:"
   ]
  },
  {
   "cell_type": "code",
   "execution_count": 11,
   "metadata": {},
   "outputs": [],
   "source": [
    "import google.generativeai as genai\n",
    "\n",
    "genai.configure(api_key=GOOGLE_KEY)\n",
    "\n",
    "# The tools argument should be a list of Tool objects.\n",
    "# Each Tool object should have a list of function_declarations.\n",
    "tools_stocks = genai.types.Tool(\n",
    "    function_declarations=[\n",
    "        {\n",
    "            \"name\": \"get_stock_price\",\n",
    "            \"description\": \"Return the latest USD trading price for a stock symbol (e.g. GOOG).\",\n",
    "            \"parameters\": {\n",
    "                \"type\": \"object\",\n",
    "                \"properties\": {\n",
    "                    \"symbol\": {\"type\": \"string\", \"description\": \"Ticker (upper‑case)\"},\n",
    "                },\n",
    "                \"required\": [\"symbol\"]\n",
    "            }\n",
    "        },\n",
    "        {\n",
    "            \"name\": \"get_company_overview\",\n",
    "            \"description\": \"Return a concise fundamental overview for a public company.\",\n",
    "            \"parameters\": {\n",
    "                \"type\": \"object\",\n",
    "                \"properties\": {\n",
    "                    \"symbol\": {\"type\": \"string\", \"description\": \"Ticker (upper‑case)\"},\n",
    "                },\n",
    "                \"required\": [\"symbol\"]\n",
    "            }\n",
    "        },\n",
    "        {\n",
    "            \"name\": \"get_news\",\n",
    "            \"description\": \"Return recent news articles on a topic or company.\",\n",
    "            \"parameters\": {\n",
    "                \"type\": \"object\",\n",
    "                \"properties\": {\n",
    "                    \"topic\": {\"type\": \"string\", \"description\": \"Search query\"},\n",
    "                    \"n\": {\"type\": \"integer\", \"description\": \"Max number of articles\"},\n",
    "                },\n",
    "                \"required\": [\"topic\"]\n",
    "            }\n",
    "        }\n",
    "    ]\n",
    ")"
   ]
  },
  {
   "cell_type": "markdown",
   "metadata": {},
   "source": [
    "### 4. Initialize model\n",
    "Initialize the Gemini model with the desired model parameters and Tool that we defined earlier"
   ]
  },
  {
   "cell_type": "code",
   "execution_count": 12,
   "metadata": {},
   "outputs": [],
   "source": [
    "SYS = (\n",
    "\"\"\"\n",
    "You are a seasoned Finance Coach and AI‑powered Investment Advisor. \n",
    "Your role is to deliver up‑to‑the‑minute market trends, breaking financial news and tailored insights. \n",
    "Whenever needed, you fetch real‑time data—stock quotes, company overviews or relevant news articles—and synthesize it into clear, concise recommendations. \n",
    "Always maintain a professional tone and help the user make fast, well‑informed financial decisions.\n",
    "\"\"\"\n",
    ")\n",
    "\n",
    "model = genai.GenerativeModel(\n",
    "    model_name=\"gemini-2.0-flash\",\n",
    "    tools= [tools_stocks], # tools_stocks as a list\n",
    "    system_instruction=SYS,\n",
    "    \n",
    ")\n",
    "\n",
    "chat = model.start_chat()"
   ]
  },
  {
   "cell_type": "markdown",
   "metadata": {},
   "source": [
    "### 4. Function to execute Gemini Function Calling\n",
    "In this step, we wire up the conversation loop using the Gemini SDK. The AI Agent will detect when to call our helper functions and handle the responses automatically."
   ]
  },
  {
   "cell_type": "code",
   "execution_count": 13,
   "metadata": {},
   "outputs": [],
   "source": [
    "def run_agent(user_prompt: str):\n",
    "    response = chat.send_message(user_prompt, stream=False)\n",
    "    part = response.candidates[0].content.parts[0]\n",
    "\n",
    "    if hasattr(part, \"function_call\"):\n",
    "        fn_call = part.function_call\n",
    "        fn_name = fn_call.name\n",
    "        args = fn_call.args or {}\n",
    "\n",
    "        # Check if the function name is valid and not empty\n",
    "        if fn_name and fn_name in globals():\n",
    "            # Executa a função Python correspondente\n",
    "            result = globals()[fn_name](**args)\n",
    "            # Send the result back to the model\n",
    "            response = chat.send_message(content=str(result), stream=False)  \n",
    "        else:\n",
    "            print(f\"Function '{fn_name}' not found or invalid.\")  # Inform the user about the issue\n",
    "            return \"I couldn't find the information you requested.\" # Provide a fallback response\n",
    "\n",
    "    # Check if response is a string before accessing .text\n",
    "    if isinstance(response, str):\n",
    "        return response\n",
    "    else:\n",
    "        # Access the text content directly from the response\n",
    "        return response.text"
   ]
  },
  {
   "cell_type": "markdown",
   "metadata": {},
   "source": [
    "### 5. Output\n",
    "Sample prompts"
   ]
  },
  {
   "cell_type": "code",
   "execution_count": 15,
   "metadata": {},
   "outputs": [
    {
     "ename": "NameError",
     "evalue": "name 'rpc_status' is not defined",
     "output_type": "error",
     "traceback": [
      "\u001b[31m---------------------------------------------------------------------------\u001b[39m",
      "\u001b[31mNameError\u001b[39m                                 Traceback (most recent call last)",
      "\u001b[36mCell\u001b[39m\u001b[36m \u001b[39m\u001b[32mIn[15]\u001b[39m\u001b[32m, line 2\u001b[39m\n\u001b[32m      1\u001b[39m prompt = \u001b[33m\"\u001b[39m\u001b[33mWhat\u001b[39m\u001b[33m'\u001b[39m\u001b[33ms the latest news about AI\u001b[39m\u001b[33m\"\u001b[39m\n\u001b[32m----> \u001b[39m\u001b[32m2\u001b[39m response = \u001b[43mrun_agent\u001b[49m\u001b[43m(\u001b[49m\u001b[43mprompt\u001b[49m\u001b[43m)\u001b[49m\n\u001b[32m      3\u001b[39m Markdown(response)\n",
      "\u001b[36mCell\u001b[39m\u001b[36m \u001b[39m\u001b[32mIn[13]\u001b[39m\u001b[32m, line 2\u001b[39m, in \u001b[36mrun_agent\u001b[39m\u001b[34m(user_prompt)\u001b[39m\n\u001b[32m      1\u001b[39m \u001b[38;5;28;01mdef\u001b[39;00m\u001b[38;5;250m \u001b[39m\u001b[34mrun_agent\u001b[39m(user_prompt: \u001b[38;5;28mstr\u001b[39m):\n\u001b[32m----> \u001b[39m\u001b[32m2\u001b[39m     response = \u001b[43mchat\u001b[49m\u001b[43m.\u001b[49m\u001b[43msend_message\u001b[49m\u001b[43m(\u001b[49m\u001b[43muser_prompt\u001b[49m\u001b[43m,\u001b[49m\u001b[43m \u001b[49m\u001b[43mstream\u001b[49m\u001b[43m=\u001b[49m\u001b[38;5;28;43;01mFalse\u001b[39;49;00m\u001b[43m)\u001b[49m\n\u001b[32m      3\u001b[39m     part = response.candidates[\u001b[32m0\u001b[39m].content.parts[\u001b[32m0\u001b[39m]\n\u001b[32m      5\u001b[39m     \u001b[38;5;28;01mif\u001b[39;00m \u001b[38;5;28mhasattr\u001b[39m(part, \u001b[33m\"\u001b[39m\u001b[33mfunction_call\u001b[39m\u001b[33m\"\u001b[39m):\n",
      "\u001b[36mFile \u001b[39m\u001b[32mc:\\Users\\reyna\\_python_projects\\personal\\study-guide\\genai_intensive_course_gemini\\.venv\\Lib\\site-packages\\google\\generativeai\\generative_models.py:578\u001b[39m, in \u001b[36mChatSession.send_message\u001b[39m\u001b[34m(self, content, generation_config, safety_settings, stream, tools, tool_config, request_options)\u001b[39m\n\u001b[32m    573\u001b[39m \u001b[38;5;28;01mif\u001b[39;00m generation_config.get(\u001b[33m\"\u001b[39m\u001b[33mcandidate_count\u001b[39m\u001b[33m\"\u001b[39m, \u001b[32m1\u001b[39m) > \u001b[32m1\u001b[39m:\n\u001b[32m    574\u001b[39m     \u001b[38;5;28;01mraise\u001b[39;00m \u001b[38;5;167;01mValueError\u001b[39;00m(\n\u001b[32m    575\u001b[39m         \u001b[33m\"\u001b[39m\u001b[33mInvalid configuration: The chat functionality does not support `candidate_count` greater than 1.\u001b[39m\u001b[33m\"\u001b[39m\n\u001b[32m    576\u001b[39m     )\n\u001b[32m--> \u001b[39m\u001b[32m578\u001b[39m response = \u001b[38;5;28;43mself\u001b[39;49m\u001b[43m.\u001b[49m\u001b[43mmodel\u001b[49m\u001b[43m.\u001b[49m\u001b[43mgenerate_content\u001b[49m\u001b[43m(\u001b[49m\n\u001b[32m    579\u001b[39m \u001b[43m    \u001b[49m\u001b[43mcontents\u001b[49m\u001b[43m=\u001b[49m\u001b[43mhistory\u001b[49m\u001b[43m,\u001b[49m\n\u001b[32m    580\u001b[39m \u001b[43m    \u001b[49m\u001b[43mgeneration_config\u001b[49m\u001b[43m=\u001b[49m\u001b[43mgeneration_config\u001b[49m\u001b[43m,\u001b[49m\n\u001b[32m    581\u001b[39m \u001b[43m    \u001b[49m\u001b[43msafety_settings\u001b[49m\u001b[43m=\u001b[49m\u001b[43msafety_settings\u001b[49m\u001b[43m,\u001b[49m\n\u001b[32m    582\u001b[39m \u001b[43m    \u001b[49m\u001b[43mstream\u001b[49m\u001b[43m=\u001b[49m\u001b[43mstream\u001b[49m\u001b[43m,\u001b[49m\n\u001b[32m    583\u001b[39m \u001b[43m    \u001b[49m\u001b[43mtools\u001b[49m\u001b[43m=\u001b[49m\u001b[43mtools_lib\u001b[49m\u001b[43m,\u001b[49m\n\u001b[32m    584\u001b[39m \u001b[43m    \u001b[49m\u001b[43mtool_config\u001b[49m\u001b[43m=\u001b[49m\u001b[43mtool_config\u001b[49m\u001b[43m,\u001b[49m\n\u001b[32m    585\u001b[39m \u001b[43m    \u001b[49m\u001b[43mrequest_options\u001b[49m\u001b[43m=\u001b[49m\u001b[43mrequest_options\u001b[49m\u001b[43m,\u001b[49m\n\u001b[32m    586\u001b[39m \u001b[43m\u001b[49m\u001b[43m)\u001b[49m\n\u001b[32m    588\u001b[39m \u001b[38;5;28mself\u001b[39m._check_response(response=response, stream=stream)\n\u001b[32m    590\u001b[39m \u001b[38;5;28;01mif\u001b[39;00m \u001b[38;5;28mself\u001b[39m.enable_automatic_function_calling \u001b[38;5;129;01mand\u001b[39;00m tools_lib \u001b[38;5;129;01mis\u001b[39;00m \u001b[38;5;129;01mnot\u001b[39;00m \u001b[38;5;28;01mNone\u001b[39;00m:\n",
      "\u001b[36mFile \u001b[39m\u001b[32mc:\\Users\\reyna\\_python_projects\\personal\\study-guide\\genai_intensive_course_gemini\\.venv\\Lib\\site-packages\\google\\generativeai\\generative_models.py:331\u001b[39m, in \u001b[36mGenerativeModel.generate_content\u001b[39m\u001b[34m(self, contents, generation_config, safety_settings, stream, tools, tool_config, request_options)\u001b[39m\n\u001b[32m    329\u001b[39m         \u001b[38;5;28;01mreturn\u001b[39;00m generation_types.GenerateContentResponse.from_iterator(iterator)\n\u001b[32m    330\u001b[39m     \u001b[38;5;28;01melse\u001b[39;00m:\n\u001b[32m--> \u001b[39m\u001b[32m331\u001b[39m         response = \u001b[38;5;28;43mself\u001b[39;49m\u001b[43m.\u001b[49m\u001b[43m_client\u001b[49m\u001b[43m.\u001b[49m\u001b[43mgenerate_content\u001b[49m\u001b[43m(\u001b[49m\n\u001b[32m    332\u001b[39m \u001b[43m            \u001b[49m\u001b[43mrequest\u001b[49m\u001b[43m,\u001b[49m\n\u001b[32m    333\u001b[39m \u001b[43m            \u001b[49m\u001b[43m*\u001b[49m\u001b[43m*\u001b[49m\u001b[43mrequest_options\u001b[49m\u001b[43m,\u001b[49m\n\u001b[32m    334\u001b[39m \u001b[43m        \u001b[49m\u001b[43m)\u001b[49m\n\u001b[32m    335\u001b[39m         \u001b[38;5;28;01mreturn\u001b[39;00m generation_types.GenerateContentResponse.from_response(response)\n\u001b[32m    336\u001b[39m \u001b[38;5;28;01mexcept\u001b[39;00m google.api_core.exceptions.InvalidArgument \u001b[38;5;28;01mas\u001b[39;00m e:\n",
      "\u001b[36mFile \u001b[39m\u001b[32mc:\\Users\\reyna\\_python_projects\\personal\\study-guide\\genai_intensive_course_gemini\\.venv\\Lib\\site-packages\\google\\ai\\generativelanguage_v1beta\\services\\generative_service\\client.py:835\u001b[39m, in \u001b[36mGenerativeServiceClient.generate_content\u001b[39m\u001b[34m(self, request, model, contents, retry, timeout, metadata)\u001b[39m\n\u001b[32m    832\u001b[39m \u001b[38;5;28mself\u001b[39m._validate_universe_domain()\n\u001b[32m    834\u001b[39m \u001b[38;5;66;03m# Send the request.\u001b[39;00m\n\u001b[32m--> \u001b[39m\u001b[32m835\u001b[39m response = \u001b[43mrpc\u001b[49m\u001b[43m(\u001b[49m\n\u001b[32m    836\u001b[39m \u001b[43m    \u001b[49m\u001b[43mrequest\u001b[49m\u001b[43m,\u001b[49m\n\u001b[32m    837\u001b[39m \u001b[43m    \u001b[49m\u001b[43mretry\u001b[49m\u001b[43m=\u001b[49m\u001b[43mretry\u001b[49m\u001b[43m,\u001b[49m\n\u001b[32m    838\u001b[39m \u001b[43m    \u001b[49m\u001b[43mtimeout\u001b[49m\u001b[43m=\u001b[49m\u001b[43mtimeout\u001b[49m\u001b[43m,\u001b[49m\n\u001b[32m    839\u001b[39m \u001b[43m    \u001b[49m\u001b[43mmetadata\u001b[49m\u001b[43m=\u001b[49m\u001b[43mmetadata\u001b[49m\u001b[43m,\u001b[49m\n\u001b[32m    840\u001b[39m \u001b[43m\u001b[49m\u001b[43m)\u001b[49m\n\u001b[32m    842\u001b[39m \u001b[38;5;66;03m# Done; return the response.\u001b[39;00m\n\u001b[32m    843\u001b[39m \u001b[38;5;28;01mreturn\u001b[39;00m response\n",
      "\u001b[36mFile \u001b[39m\u001b[32mc:\\Users\\reyna\\_python_projects\\personal\\study-guide\\genai_intensive_course_gemini\\.venv\\Lib\\site-packages\\google\\api_core\\gapic_v1\\method.py:131\u001b[39m, in \u001b[36m_GapicCallable.__call__\u001b[39m\u001b[34m(self, timeout, retry, compression, *args, **kwargs)\u001b[39m\n\u001b[32m    128\u001b[39m \u001b[38;5;28;01mif\u001b[39;00m \u001b[38;5;28mself\u001b[39m._compression \u001b[38;5;129;01mis\u001b[39;00m \u001b[38;5;129;01mnot\u001b[39;00m \u001b[38;5;28;01mNone\u001b[39;00m:\n\u001b[32m    129\u001b[39m     kwargs[\u001b[33m\"\u001b[39m\u001b[33mcompression\u001b[39m\u001b[33m\"\u001b[39m] = compression\n\u001b[32m--> \u001b[39m\u001b[32m131\u001b[39m \u001b[38;5;28;01mreturn\u001b[39;00m \u001b[43mwrapped_func\u001b[49m\u001b[43m(\u001b[49m\u001b[43m*\u001b[49m\u001b[43margs\u001b[49m\u001b[43m,\u001b[49m\u001b[43m \u001b[49m\u001b[43m*\u001b[49m\u001b[43m*\u001b[49m\u001b[43mkwargs\u001b[49m\u001b[43m)\u001b[49m\n",
      "\u001b[36mFile \u001b[39m\u001b[32mc:\\Users\\reyna\\_python_projects\\personal\\study-guide\\genai_intensive_course_gemini\\.venv\\Lib\\site-packages\\google\\api_core\\retry\\retry_unary.py:293\u001b[39m, in \u001b[36mRetry.__call__.<locals>.retry_wrapped_func\u001b[39m\u001b[34m(*args, **kwargs)\u001b[39m\n\u001b[32m    289\u001b[39m target = functools.partial(func, *args, **kwargs)\n\u001b[32m    290\u001b[39m sleep_generator = exponential_sleep_generator(\n\u001b[32m    291\u001b[39m     \u001b[38;5;28mself\u001b[39m._initial, \u001b[38;5;28mself\u001b[39m._maximum, multiplier=\u001b[38;5;28mself\u001b[39m._multiplier\n\u001b[32m    292\u001b[39m )\n\u001b[32m--> \u001b[39m\u001b[32m293\u001b[39m \u001b[38;5;28;01mreturn\u001b[39;00m \u001b[43mretry_target\u001b[49m\u001b[43m(\u001b[49m\n\u001b[32m    294\u001b[39m \u001b[43m    \u001b[49m\u001b[43mtarget\u001b[49m\u001b[43m,\u001b[49m\n\u001b[32m    295\u001b[39m \u001b[43m    \u001b[49m\u001b[38;5;28;43mself\u001b[39;49m\u001b[43m.\u001b[49m\u001b[43m_predicate\u001b[49m\u001b[43m,\u001b[49m\n\u001b[32m    296\u001b[39m \u001b[43m    \u001b[49m\u001b[43msleep_generator\u001b[49m\u001b[43m,\u001b[49m\n\u001b[32m    297\u001b[39m \u001b[43m    \u001b[49m\u001b[43mtimeout\u001b[49m\u001b[43m=\u001b[49m\u001b[38;5;28;43mself\u001b[39;49m\u001b[43m.\u001b[49m\u001b[43m_timeout\u001b[49m\u001b[43m,\u001b[49m\n\u001b[32m    298\u001b[39m \u001b[43m    \u001b[49m\u001b[43mon_error\u001b[49m\u001b[43m=\u001b[49m\u001b[43mon_error\u001b[49m\u001b[43m,\u001b[49m\n\u001b[32m    299\u001b[39m \u001b[43m\u001b[49m\u001b[43m)\u001b[49m\n",
      "\u001b[36mFile \u001b[39m\u001b[32mc:\\Users\\reyna\\_python_projects\\personal\\study-guide\\genai_intensive_course_gemini\\.venv\\Lib\\site-packages\\google\\api_core\\retry\\retry_unary.py:153\u001b[39m, in \u001b[36mretry_target\u001b[39m\u001b[34m(target, predicate, sleep_generator, timeout, on_error, exception_factory, **kwargs)\u001b[39m\n\u001b[32m    149\u001b[39m \u001b[38;5;66;03m# pylint: disable=broad-except\u001b[39;00m\n\u001b[32m    150\u001b[39m \u001b[38;5;66;03m# This function explicitly must deal with broad exceptions.\u001b[39;00m\n\u001b[32m    151\u001b[39m \u001b[38;5;28;01mexcept\u001b[39;00m \u001b[38;5;167;01mException\u001b[39;00m \u001b[38;5;28;01mas\u001b[39;00m exc:\n\u001b[32m    152\u001b[39m     \u001b[38;5;66;03m# defer to shared logic for handling errors\u001b[39;00m\n\u001b[32m--> \u001b[39m\u001b[32m153\u001b[39m     \u001b[43m_retry_error_helper\u001b[49m\u001b[43m(\u001b[49m\n\u001b[32m    154\u001b[39m \u001b[43m        \u001b[49m\u001b[43mexc\u001b[49m\u001b[43m,\u001b[49m\n\u001b[32m    155\u001b[39m \u001b[43m        \u001b[49m\u001b[43mdeadline\u001b[49m\u001b[43m,\u001b[49m\n\u001b[32m    156\u001b[39m \u001b[43m        \u001b[49m\u001b[43msleep\u001b[49m\u001b[43m,\u001b[49m\n\u001b[32m    157\u001b[39m \u001b[43m        \u001b[49m\u001b[43merror_list\u001b[49m\u001b[43m,\u001b[49m\n\u001b[32m    158\u001b[39m \u001b[43m        \u001b[49m\u001b[43mpredicate\u001b[49m\u001b[43m,\u001b[49m\n\u001b[32m    159\u001b[39m \u001b[43m        \u001b[49m\u001b[43mon_error\u001b[49m\u001b[43m,\u001b[49m\n\u001b[32m    160\u001b[39m \u001b[43m        \u001b[49m\u001b[43mexception_factory\u001b[49m\u001b[43m,\u001b[49m\n\u001b[32m    161\u001b[39m \u001b[43m        \u001b[49m\u001b[43mtimeout\u001b[49m\u001b[43m,\u001b[49m\n\u001b[32m    162\u001b[39m \u001b[43m    \u001b[49m\u001b[43m)\u001b[49m\n\u001b[32m    163\u001b[39m     \u001b[38;5;66;03m# if exception not raised, sleep before next attempt\u001b[39;00m\n\u001b[32m    164\u001b[39m     time.sleep(sleep)\n",
      "\u001b[36mFile \u001b[39m\u001b[32mc:\\Users\\reyna\\_python_projects\\personal\\study-guide\\genai_intensive_course_gemini\\.venv\\Lib\\site-packages\\google\\api_core\\retry\\retry_base.py:212\u001b[39m, in \u001b[36m_retry_error_helper\u001b[39m\u001b[34m(exc, deadline, next_sleep, error_list, predicate_fn, on_error_fn, exc_factory_fn, original_timeout)\u001b[39m\n\u001b[32m    206\u001b[39m \u001b[38;5;28;01mif\u001b[39;00m \u001b[38;5;129;01mnot\u001b[39;00m predicate_fn(exc):\n\u001b[32m    207\u001b[39m     final_exc, source_exc = exc_factory_fn(\n\u001b[32m    208\u001b[39m         error_list,\n\u001b[32m    209\u001b[39m         RetryFailureReason.NON_RETRYABLE_ERROR,\n\u001b[32m    210\u001b[39m         original_timeout,\n\u001b[32m    211\u001b[39m     )\n\u001b[32m--> \u001b[39m\u001b[32m212\u001b[39m     \u001b[38;5;28;01mraise\u001b[39;00m final_exc \u001b[38;5;28;01mfrom\u001b[39;00m\u001b[38;5;250m \u001b[39m\u001b[34;01msource_exc\u001b[39;00m\n\u001b[32m    213\u001b[39m \u001b[38;5;28;01mif\u001b[39;00m on_error_fn \u001b[38;5;129;01mis\u001b[39;00m \u001b[38;5;129;01mnot\u001b[39;00m \u001b[38;5;28;01mNone\u001b[39;00m:\n\u001b[32m    214\u001b[39m     on_error_fn(exc)\n",
      "\u001b[36mFile \u001b[39m\u001b[32mc:\\Users\\reyna\\_python_projects\\personal\\study-guide\\genai_intensive_course_gemini\\.venv\\Lib\\site-packages\\google\\api_core\\retry\\retry_unary.py:144\u001b[39m, in \u001b[36mretry_target\u001b[39m\u001b[34m(target, predicate, sleep_generator, timeout, on_error, exception_factory, **kwargs)\u001b[39m\n\u001b[32m    142\u001b[39m \u001b[38;5;28;01mfor\u001b[39;00m sleep \u001b[38;5;129;01min\u001b[39;00m sleep_generator:\n\u001b[32m    143\u001b[39m     \u001b[38;5;28;01mtry\u001b[39;00m:\n\u001b[32m--> \u001b[39m\u001b[32m144\u001b[39m         result = \u001b[43mtarget\u001b[49m\u001b[43m(\u001b[49m\u001b[43m)\u001b[49m\n\u001b[32m    145\u001b[39m         \u001b[38;5;28;01mif\u001b[39;00m inspect.isawaitable(result):\n\u001b[32m    146\u001b[39m             warnings.warn(_ASYNC_RETRY_WARNING)\n",
      "\u001b[36mFile \u001b[39m\u001b[32mc:\\Users\\reyna\\_python_projects\\personal\\study-guide\\genai_intensive_course_gemini\\.venv\\Lib\\site-packages\\google\\api_core\\timeout.py:130\u001b[39m, in \u001b[36mTimeToDeadlineTimeout.__call__.<locals>.func_with_timeout\u001b[39m\u001b[34m(*args, **kwargs)\u001b[39m\n\u001b[32m    126\u001b[39m         remaining_timeout = \u001b[38;5;28mself\u001b[39m._timeout\n\u001b[32m    128\u001b[39m     kwargs[\u001b[33m\"\u001b[39m\u001b[33mtimeout\u001b[39m\u001b[33m\"\u001b[39m] = remaining_timeout\n\u001b[32m--> \u001b[39m\u001b[32m130\u001b[39m \u001b[38;5;28;01mreturn\u001b[39;00m \u001b[43mfunc\u001b[49m\u001b[43m(\u001b[49m\u001b[43m*\u001b[49m\u001b[43margs\u001b[49m\u001b[43m,\u001b[49m\u001b[43m \u001b[49m\u001b[43m*\u001b[49m\u001b[43m*\u001b[49m\u001b[43mkwargs\u001b[49m\u001b[43m)\u001b[49m\n",
      "\u001b[36mFile \u001b[39m\u001b[32mc:\\Users\\reyna\\_python_projects\\personal\\study-guide\\genai_intensive_course_gemini\\.venv\\Lib\\site-packages\\google\\api_core\\grpc_helpers.py:78\u001b[39m, in \u001b[36m_wrap_unary_errors.<locals>.error_remapped_callable\u001b[39m\u001b[34m(*args, **kwargs)\u001b[39m\n\u001b[32m     76\u001b[39m     \u001b[38;5;28;01mreturn\u001b[39;00m callable_(*args, **kwargs)\n\u001b[32m     77\u001b[39m \u001b[38;5;28;01mexcept\u001b[39;00m grpc.RpcError \u001b[38;5;28;01mas\u001b[39;00m exc:\n\u001b[32m---> \u001b[39m\u001b[32m78\u001b[39m     \u001b[38;5;28;01mraise\u001b[39;00m \u001b[43mexceptions\u001b[49m\u001b[43m.\u001b[49m\u001b[43mfrom_grpc_error\u001b[49m\u001b[43m(\u001b[49m\u001b[43mexc\u001b[49m\u001b[43m)\u001b[49m \u001b[38;5;28;01mfrom\u001b[39;00m\u001b[38;5;250m \u001b[39m\u001b[34;01mexc\u001b[39;00m\n",
      "\u001b[36mFile \u001b[39m\u001b[32mc:\\Users\\reyna\\_python_projects\\personal\\study-guide\\genai_intensive_course_gemini\\.venv\\Lib\\site-packages\\google\\api_core\\exceptions.py:660\u001b[39m, in \u001b[36mfrom_grpc_error\u001b[39m\u001b[34m(rpc_exc)\u001b[39m\n\u001b[32m    655\u001b[39m \u001b[38;5;66;03m# NOTE(lidiz) All gRPC error shares the parent class grpc.RpcError.\u001b[39;00m\n\u001b[32m    656\u001b[39m \u001b[38;5;66;03m# However, check for grpc.RpcError breaks backward compatibility.\u001b[39;00m\n\u001b[32m    657\u001b[39m \u001b[38;5;28;01mif\u001b[39;00m (\n\u001b[32m    658\u001b[39m     grpc \u001b[38;5;129;01mis\u001b[39;00m \u001b[38;5;129;01mnot\u001b[39;00m \u001b[38;5;28;01mNone\u001b[39;00m \u001b[38;5;129;01mand\u001b[39;00m \u001b[38;5;28misinstance\u001b[39m(rpc_exc, grpc.Call)\n\u001b[32m    659\u001b[39m ) \u001b[38;5;129;01mor\u001b[39;00m _is_informative_grpc_error(rpc_exc):\n\u001b[32m--> \u001b[39m\u001b[32m660\u001b[39m     details, err_info = \u001b[43m_parse_grpc_error_details\u001b[49m\u001b[43m(\u001b[49m\u001b[43mrpc_exc\u001b[49m\u001b[43m)\u001b[49m\n\u001b[32m    661\u001b[39m     \u001b[38;5;28;01mreturn\u001b[39;00m from_grpc_status(\n\u001b[32m    662\u001b[39m         rpc_exc.code(),\n\u001b[32m    663\u001b[39m         rpc_exc.details(),\n\u001b[32m   (...)\u001b[39m\u001b[32m    667\u001b[39m         error_info=err_info,\n\u001b[32m    668\u001b[39m     )\n\u001b[32m    669\u001b[39m \u001b[38;5;28;01melse\u001b[39;00m:\n",
      "\u001b[36mFile \u001b[39m\u001b[32mc:\\Users\\reyna\\_python_projects\\personal\\study-guide\\genai_intensive_course_gemini\\.venv\\Lib\\site-packages\\google\\api_core\\exceptions.py:604\u001b[39m, in \u001b[36m_parse_grpc_error_details\u001b[39m\u001b[34m(rpc_exc)\u001b[39m\n\u001b[32m    603\u001b[39m \u001b[38;5;28;01mdef\u001b[39;00m\u001b[38;5;250m \u001b[39m\u001b[34m_parse_grpc_error_details\u001b[39m(rpc_exc):\n\u001b[32m--> \u001b[39m\u001b[32m604\u001b[39m     \u001b[38;5;28;01mif\u001b[39;00m \u001b[38;5;129;01mnot\u001b[39;00m \u001b[43mrpc_status\u001b[49m:  \u001b[38;5;66;03m# pragma: NO COVER\u001b[39;00m\n\u001b[32m    605\u001b[39m         _warn_could_not_import_grpcio_status()\n\u001b[32m    606\u001b[39m         \u001b[38;5;28;01mreturn\u001b[39;00m [], \u001b[38;5;28;01mNone\u001b[39;00m\n",
      "\u001b[31mNameError\u001b[39m: name 'rpc_status' is not defined"
     ]
    }
   ],
   "source": [
    "prompt = \"What's the latest news about AI\"\n",
    "response = run_agent(prompt)\n",
    "Markdown(response)"
   ]
  },
  {
   "cell_type": "code",
   "execution_count": null,
   "metadata": {},
   "outputs": [],
   "source": [
    "# Prompt related to stock price\n",
    "prompt = \"What is the current stock price for Google?\"\n",
    "response = run_agent(prompt)\n",
    "print(response)"
   ]
  },
  {
   "cell_type": "code",
   "execution_count": null,
   "metadata": {},
   "outputs": [],
   "source": [
    "prompt = \"Give me a company overview of Tesla Company\"\n",
    "response = run_agent(prompt)\n",
    "Markdown(response)"
   ]
  }
 ],
 "metadata": {
  "kernelspec": {
   "display_name": ".venv",
   "language": "python",
   "name": "python3"
  },
  "language_info": {
   "codemirror_mode": {
    "name": "ipython",
    "version": 3
   },
   "file_extension": ".py",
   "mimetype": "text/x-python",
   "name": "python",
   "nbconvert_exporter": "python",
   "pygments_lexer": "ipython3",
   "version": "3.11.11"
  }
 },
 "nbformat": 4,
 "nbformat_minor": 2
}
